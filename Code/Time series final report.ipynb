{
 "cells": [
  {
   "cell_type": "code",
   "execution_count": 1,
   "metadata": {},
   "outputs": [],
   "source": [
    "import numpy as np\n",
    "import pandas as pd\n",
    "import matplotlib.pyplot as plt\n",
    "import seaborn as sns\n",
    "import warnings\n",
    "import time\n",
    "import statsmodels.api as sm\n",
    "import statsmodels.tsa.api as smt\n",
    "from statsmodels.tsa.api import VAR\n",
    "import statsmodels.api as sm\n",
    "from sklearn.preprocessing import Normalizer\n",
    "warnings.filterwarnings(\"ignore\")"
   ]
  },
  {
   "cell_type": "code",
   "execution_count": 2,
   "metadata": {},
   "outputs": [],
   "source": [
    "df=pd.read_csv('train_weekly.csv')\n",
    "df['Time']=pd.to_datetime(df['Time'])#,format='%Y-%m-%d')\n",
    "Time=df['Time']\n",
    "df=df.iloc[:,:]\n",
    "df=df.drop(['Signal'],axis=1)\n",
    "dp=np.zeros(len(df))\n",
    "pp=np.zeros(len(df))\n",
    "for i in range(1,len(df)):\n",
    "    dp[i]=df['AM_NetPos'][i]-df['AM_NetPos'][i-1]\n",
    "    pp[i]=df['AM_NetPos'][i-1]\n",
    "df['DP']=dp\n",
    "df['Prev_pos']=pp\n",
    "df=df.drop([\"Lev_NetPos\",\"AM_n_L\",\"AM_n_S\",\"Lev_n_L\",\"Lev_n_S\",\"AM_L\",\"AM_S\",\"Lev_L\",\"Lev_S\",'AM_NetPos','Time'],axis=1).drop(0)"
   ]
  },
  {
   "cell_type": "code",
   "execution_count": 3,
   "metadata": {},
   "outputs": [],
   "source": [
    "y=df['DP']\n",
    "X=df.drop(['DP'],axis=1)\n",
    "X = sm.add_constant(X)\n",
    "model_OLS = sm.OLS(y, X).fit()\n",
    "a=model_OLS.pvalues\n",
    "for i in range(5):\n",
    "    X_loop=X.iloc[i:,:]\n",
    "    y_loop=y.shift(i).dropna()\n",
    "    X_loop = sm.add_constant(X_loop)\n",
    "    model_OLS = sm.OLS(y_loop, X_loop).fit()\n",
    "    a+=model_OLS.pvalues\n",
    "# print(a.sort_values())\n",
    "selected=['Prev_pos', 'GOLD_price', 'JNK_Volume', 'NASDAQCOM','WILL5000INDFC', 'SPX', 'Libor 6 mo']"
   ]
  },
  {
   "cell_type": "markdown",
   "metadata": {},
   "source": [
    "# VAR"
   ]
  },
  {
   "cell_type": "code",
   "execution_count": null,
   "metadata": {},
   "outputs": [],
   "source": [
    "# deal with the extra lag for positioning\n",
    "Varmax_df=df[np.append(selected,'DP')]\n",
    "#dpos = (pos-pos.shift(1)).dropna()\n",
    "#Varmax_df['dpos']=dpos"
   ]
  },
  {
   "cell_type": "code",
   "execution_count": null,
   "metadata": {},
   "outputs": [],
   "source": [
    "MSE=[]\n",
    "APE=[]\n",
    "MAE=[]\n",
    "predicted=[]\n",
    "true=[]\n",
    "start = time.time()\n",
    "for i in range(350,len(Varmax_df)):\n",
    "    #assume stationarity at first\n",
    "    y_val=Varmax_df['DP'].iloc[i]\n",
    "    mod = VAR(Varmax_df.iloc[:i,:]).fit(3)\n",
    "    prediction=mod.forecast(np.array(Varmax_df.iloc[:i,:]),1)\n",
    "    pos_index=[i for i, j in enumerate(Varmax_df.columns) if j == 'DP']\n",
    "    y_predict=prediction[0][pos_index]\n",
    "    predicted.append(y_predict+df['Prev_pos'].iloc[i])\n",
    "    true.append(y_val+df['Prev_pos'].iloc[i])\n",
    "\n",
    "    mse=(y_val-y_predict)**2\n",
    "    ape=np.abs((y_val-y_predict)/(df['DP'].iloc[i]+df['Prev_pos'].iloc[i]))\n",
    "    MSE.append(mse)\n",
    "    APE.append(ape)\n",
    "    mae=np.abs((y_val-y_predict))\n",
    "    MAE.append(mae)\n",
    "    \n",
    "true=pd.Series(true,index=Time[351:])\n",
    "predicted=pd.Series(predicted,index=Time[351:])\n",
    "end = time.time()\n",
    "print('VAR Selection: ')\n",
    "print('MSE is ',np.mean(MSE))\n",
    "print('Average Percentage Error is ' , np.mean(APE) )\n",
    "print('Time elapsed: ',end-start)\n",
    "print('MAE is ',np.mean(MAE))\n",
    "#plt.scatter(predicted,true)\n",
    "type(predicted)\n"
   ]
  },
  {
   "cell_type": "markdown",
   "metadata": {},
   "source": [
    "# Transformation"
   ]
  },
  {
   "cell_type": "code",
   "execution_count": null,
   "metadata": {},
   "outputs": [],
   "source": [
    "MSE=[]\n",
    "APE=[]\n",
    "MAE=[]\n",
    "predicted=[]\n",
    "true=[]\n",
    "start = time.time()\n",
    "for i in range(350,len(Varmax_df)):\n",
    "    #assume stationarity at first\n",
    "    y_val=Varmax_df['DP'].iloc[i]\n",
    "    transformer = Normalizer().fit(Varmax_df.iloc[:i,:].drop(['DP'],axis=1))\n",
    "    Trans=transformer.transform(Varmax_df.iloc[:i,:].drop(['DP'],axis=1))\n",
    "    trans_df=np.append(Trans,np.array(Varmax_df['DP'].iloc[:i]).reshape(i,1),1)\n",
    "    mod = VAR(trans_df).fit(3)\n",
    "    prediction=mod.forecast(trans_df,1)\n",
    "    pos_index=[i for i, j in enumerate(trans_df) if j == 'DP']\n",
    "    y_predict=prediction[0][-1]\n",
    "    mse=(y_val-y_predict)**2\n",
    "    ape=np.abs((y_val-y_predict)/(df['DP'].iloc[i]+df['Prev_pos'].iloc[i]))\n",
    "    predicted.append(y_predict+df['Prev_pos'].iloc[i])\n",
    "    true.append(y_val+df['Prev_pos'].iloc[i])\n",
    "    MSE.append(mse)\n",
    "    APE.append(ape)\n",
    "    mae=np.abs(y_val-y_predict)\n",
    "    MAE.append(mae)\n",
    "end = time.time()\n",
    "print('VAR Transformation: ')\n",
    "print('MSE is ',np.mean(MSE))\n",
    "print('Average Percentage Error is ' , np.mean(APE) )\n",
    "print('Time elapsed: ',end-start)\n",
    "print('MAE is ',np.mean(MAE))\n",
    "true=pd.Series(true,index=Time[351:])\n",
    "predicted=pd.Series(predicted,index=Time[351:])\n",
    "#plt.scatter(predicted,true)"
   ]
  },
  {
   "cell_type": "markdown",
   "metadata": {},
   "source": [
    "# VARMAX"
   ]
  },
  {
   "cell_type": "code",
   "execution_count": null,
   "metadata": {},
   "outputs": [],
   "source": [
    "MSE=[]\n",
    "APE=[]\n",
    "MAE=[]\n",
    "start = time.time()\n",
    "for i in range(350,len(Varmax_df)):\n",
    "    y_val=Varmax_df['DP'].iloc[i]\n",
    "    mod = sm.tsa.VARMAX(Varmax_df.iloc[:i,[0,1,7]], order=(0,2), error_cov_type='diagonal')\n",
    "    res = mod.fit(maxiter=1000, disp=False)\n",
    "    prediction=res.forecast(1)\n",
    "    #pos_index=[i for i, j in enumerate(Varmax_df.columns) if j == 'DP']\n",
    "    y_predict=prediction['DP'].iloc[0]\n",
    "    mse=(y_val-y_predict)**2\n",
    "    ape=np.abs((y_val-y_predict)/(df['DP'].iloc[i]+df['Prev_pos'].iloc[i]))\n",
    "    MSE.append(mse)\n",
    "    APE.append(ape)\n",
    "    mae=np.abs(y_val-y_predict)\n",
    "    MAE.append(mae)\n",
    "end = time.time()\n",
    "print('VARMAX Selection: ')\n",
    "print('MSE is ',np.mean(MSE))\n",
    "print('Average Percentage Error is ' , np.mean(APE) )\n",
    "print('Time elapsed: ',end-start)\n",
    "print('MAE is ',np.mean(MAE))\n",
    "true=pd.Series(true,index=Time[351:])\n",
    "predicted=pd.Series(predicted,index=Time[351:])"
   ]
  },
  {
   "cell_type": "code",
   "execution_count": null,
   "metadata": {},
   "outputs": [],
   "source": [
    "MSE=[]\n",
    "APE=[]\n",
    "MAE=[]\n",
    "predicted=[]\n",
    "true=[]\n",
    "start = time.time()\n",
    "transformer = Normalizer().fit(Varmax_df.iloc[:,:].drop(['DP'],axis=1))\n",
    "Trans=transformer.transform(Varmax_df.iloc[:,:].drop(['DP'],axis=1))\n",
    "trans_df=np.append(Trans,np.array(Varmax_df['DP']).reshape(len(Trans),1),1)\n",
    "                   \n",
    "for i in range(350,len(Varmax_df)):\n",
    "    y_val=Varmax_df['DP'].iloc[i]\n",
    "    mod = sm.tsa.VARMAX(trans_df[:i,[0,2,7]],order=(1,2), error_cov_type='diagonal')\n",
    "    res = mod.fit()\n",
    "    #pos_index=[i for i, j in enumerate(trans_df) if j == 'DP']\n",
    "    y_predict=prediction['DP'].iloc[0]\n",
    "    mse=(y_val-y_predict)**2\n",
    "    ape=np.abs((y_val-y_predict)/(df['DP'].iloc[i]+df['Prev_pos'].iloc[i]))\n",
    "    predicted.append(y_predict+df['Prev_pos'].iloc[i])\n",
    "    true.append(y_val+df['Prev_pos'].iloc[i])\n",
    "    MSE.append(mse)\n",
    "    APE.append(ape)\n",
    "    mae=np.abs(y_val-y_predict)\n",
    "    MAE.append(mae)\n",
    "end = time.time()\n",
    "print('VAR Transformation: ')\n",
    "print('MSE is ',np.mean(MSE))\n",
    "print('Average Percentage Error is ' , np.mean(APE) )\n",
    "print('Time elapsed: ',end-start)\n",
    "print('MAE is ',np.mean(MAE))\n",
    "true=pd.Series(true,index=Time[351:])\n",
    "predicted=pd.Series(predicted,index=Time[351:])\n",
    "plt.scatter(predicted,true)"
   ]
  },
  {
   "cell_type": "code",
   "execution_count": null,
   "metadata": {},
   "outputs": [],
   "source": []
  },
  {
   "cell_type": "code",
   "execution_count": null,
   "metadata": {},
   "outputs": [],
   "source": []
  },
  {
   "cell_type": "code",
   "execution_count": null,
   "metadata": {},
   "outputs": [],
   "source": []
  },
  {
   "cell_type": "code",
   "execution_count": null,
   "metadata": {},
   "outputs": [],
   "source": []
  },
  {
   "cell_type": "code",
   "execution_count": null,
   "metadata": {},
   "outputs": [],
   "source": []
  },
  {
   "cell_type": "code",
   "execution_count": null,
   "metadata": {},
   "outputs": [],
   "source": []
  },
  {
   "cell_type": "code",
   "execution_count": null,
   "metadata": {},
   "outputs": [],
   "source": []
  },
  {
   "cell_type": "code",
   "execution_count": null,
   "metadata": {},
   "outputs": [],
   "source": []
  }
 ],
 "metadata": {
  "kernelspec": {
   "display_name": "Python 3",
   "language": "python",
   "name": "python3"
  },
  "language_info": {
   "codemirror_mode": {
    "name": "ipython",
    "version": 3
   },
   "file_extension": ".py",
   "mimetype": "text/x-python",
   "name": "python",
   "nbconvert_exporter": "python",
   "pygments_lexer": "ipython3",
   "version": "3.7.1"
  }
 },
 "nbformat": 4,
 "nbformat_minor": 4
}
