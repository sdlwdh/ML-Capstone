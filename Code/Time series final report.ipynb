{
 "cells": [
  {
   "cell_type": "code",
   "execution_count": 35,
   "metadata": {},
   "outputs": [],
   "source": [
    "import numpy as np\n",
    "import pandas as pd\n",
    "import matplotlib.pyplot as plt\n",
    "import seaborn as sns\n",
    "import warnings\n",
    "import time\n",
    "import statsmodels.api as sm\n",
    "import statsmodels.tsa.api as smt\n",
    "from statsmodels.tsa.api import VAR\n",
    "import statsmodels.api as sm\n",
    "from sklearn.preprocessing import Normalizer\n",
    "warnings.filterwarnings(\"ignore\")"
   ]
  },
  {
   "cell_type": "code",
   "execution_count": 36,
   "metadata": {},
   "outputs": [],
   "source": [
    "df=pd.read_csv('train_weekly.csv')\n",
    "df['Time']=pd.to_datetime(df['Time'])#,format='%Y-%m-%d')\n",
    "df=df.iloc[:,:]\n",
    "df=df.drop(['Signal'],axis=1)\n",
    "dp=np.zeros(len(df))\n",
    "pp=np.zeros(len(df))\n",
    "for i in range(1,len(df)):\n",
    "    dp[i]=df['AM_NetPos'][i]-df['AM_NetPos'][i-1]\n",
    "    pp[i]=df['AM_NetPos'][i-1]\n",
    "df['DP']=dp\n",
    "df['Prev_pos']=pp\n",
    "df=df.drop([\"Lev_NetPos\",\"AM_n_L\",\"AM_n_S\",\"Lev_n_L\",\"Lev_n_S\",\"AM_L\",\"AM_S\",\"Lev_L\",\"Lev_S\",'AM_NetPos','Time'],axis=1).drop(0)"
   ]
  },
  {
   "cell_type": "code",
   "execution_count": 25,
   "metadata": {},
   "outputs": [],
   "source": [
    "y=df['DP']\n",
    "X=df.drop(['DP'],axis=1)\n",
    "X = sm.add_constant(X)\n",
    "model_OLS = sm.OLS(y, X).fit()\n",
    "a=model_OLS.pvalues\n",
    "for i in range(5):\n",
    "    X_loop=X.iloc[i:,:]\n",
    "    y_loop=y.shift(i).dropna()\n",
    "    X_loop = sm.add_constant(X_loop)\n",
    "    model_OLS = sm.OLS(y_loop, X_loop).fit()\n",
    "    a+=model_OLS.pvalues\n",
    "# print(a.sort_values())\n",
    "selected=['Prev_pos', 'GOLD_price', 'JNK_Volume', 'NASDAQCOM','WILL5000INDFC', 'SPX', 'Libor 6 mo']"
   ]
  },
  {
   "cell_type": "markdown",
   "metadata": {},
   "source": [
    "# VAR"
   ]
  },
  {
   "cell_type": "code",
   "execution_count": 39,
   "metadata": {},
   "outputs": [],
   "source": [
    "# deal with the extra lag for positioning\n",
    "Varmax_df=df[np.append(selected,'DP')]\n",
    "#dpos = (pos-pos.shift(1)).dropna()\n",
    "#Varmax_df['dpos']=dpos"
   ]
  },
  {
   "cell_type": "code",
   "execution_count": 42,
   "metadata": {},
   "outputs": [
    {
     "name": "stdout",
     "output_type": "stream",
     "text": [
      "VAR Selection: \n",
      "MSE is  144321860.75950733\n",
      "Average Percentage Error is  0.07275392492502177\n",
      "Time elapsed:  0.23536944389343262\n",
      "MAE is  9389.491259303868\n"
     ]
    }
   ],
   "source": [
    "MSE=[]\n",
    "APE=[]\n",
    "MAE=[]\n",
    "predicted=[]\n",
    "true=[]\n",
    "start = time.time()\n",
    "for i in range(350,len(Varmax_df)):\n",
    "    #assume stationarity at first\n",
    "    y_val=Varmax_df['DP'].iloc[i]\n",
    "    mod = VAR(Varmax_df.iloc[:i,:]).fit(3)\n",
    "    prediction=mod.forecast(np.array(Varmax_df.iloc[:i,:]),1)\n",
    "    pos_index=[i for i, j in enumerate(Varmax_df.columns) if j == 'DP']\n",
    "    y_predict=prediction[0][pos_index]\n",
    "    predicted.append(y_predict+df['Prev_pos'].iloc[i])\n",
    "    true.append(y_val+df['Prev_pos'].iloc[i])\n",
    "    mse=(y_val-y_predict)**2\n",
    "    ape=np.abs((y_val-y_predict)/(df['DP'].iloc[i]+df['Prev_pos'].iloc[i]))\n",
    "    MSE.append(mse)\n",
    "    APE.append(ape)\n",
    "    mae=np.abs((y_val-y_predict))\n",
    "    MAE.append(mae)\n",
    "end = time.time()\n",
    "print('VAR Selection: ')\n",
    "print('MSE is ',np.mean(MSE))\n",
    "print('Average Percentage Error is ' , np.mean(APE) )\n",
    "print('Time elapsed: ',end-start)\n",
    "print('MAE is ',np.mean(MAE))\n",
    "#plt.scatter(predicted,true)"
   ]
  },
  {
   "cell_type": "markdown",
   "metadata": {},
   "source": [
    "# Transformation"
   ]
  },
  {
   "cell_type": "code",
   "execution_count": 44,
   "metadata": {},
   "outputs": [
    {
     "name": "stdout",
     "output_type": "stream",
     "text": [
      "VAR Transformation: \n",
      "MSE is  147515330.53766423\n",
      "Average Percentage Error is  0.0755981607013019\n",
      "Time elapsed:  1.054206371307373\n",
      "MAE is  9656.200875888877\n"
     ]
    }
   ],
   "source": [
    "MSE=[]\n",
    "APE=[]\n",
    "MAE=[]\n",
    "predicted=[]\n",
    "true=[]\n",
    "start = time.time()\n",
    "for i in range(350,len(Varmax_df)):\n",
    "    #assume stationarity at first\n",
    "    y_val=Varmax_df['DP'].iloc[i]\n",
    "    transformer = Normalizer().fit(Varmax_df.iloc[:i,:].drop(['DP'],axis=1))\n",
    "    Trans=transformer.transform(Varmax_df.iloc[:i,:].drop(['DP'],axis=1))\n",
    "    trans_df=np.append(Trans,np.array(Varmax_df['DP'].iloc[:i]).reshape(i,1),1)\n",
    "    mod = VAR(trans_df).fit(3)\n",
    "    prediction=mod.forecast(trans_df,1)\n",
    "    pos_index=[i for i, j in enumerate(trans_df) if j == 'DP']\n",
    "    y_predict=prediction[0][-1]\n",
    "    mse=(y_val-y_predict)**2\n",
    "    ape=np.abs((y_val-y_predict)/(df['DP'].iloc[i]+df['Prev_pos'].iloc[i]))\n",
    "    predicted.append(y_predict+df['Prev_pos'].iloc[i])\n",
    "    true.append(y_val+df['Prev_pos'].iloc[i])\n",
    "    MSE.append(mse)\n",
    "    APE.append(ape)\n",
    "    mae=np.abs(y_val-y_predict)\n",
    "    MAE.append(mae)\n",
    "end = time.time()\n",
    "print('VAR Transformation: ')\n",
    "print('MSE is ',np.mean(MSE))\n",
    "print('Average Percentage Error is ' , np.mean(APE) )\n",
    "print('Time elapsed: ',end-start)\n",
    "print('MAE is ',np.mean(MAE))\n",
    "#plt.scatter(predicted,true)"
   ]
  },
  {
   "cell_type": "markdown",
   "metadata": {},
   "source": [
    "# VARMAX"
   ]
  },
  {
   "cell_type": "code",
   "execution_count": 49,
   "metadata": {},
   "outputs": [
    {
     "name": "stdout",
     "output_type": "stream",
     "text": [
      "VAR Transformation: \n",
      "MSE is  19068569297.779995\n",
      "Average Percentage Error is  1.08988123371652\n",
      "Time elapsed:  185.27006030082703\n",
      "MAE is  137566.8645416385\n"
     ]
    },
    {
     "data": {
      "text/plain": [
       "<matplotlib.collections.PathCollection at 0x2ddb4c13cf8>"
      ]
     },
     "execution_count": 49,
     "metadata": {},
     "output_type": "execute_result"
    },
    {
     "data": {
      "image/png": "[encoded data removed]",
      "text/plain": [
       "<Figure size 432x288 with 1 Axes>"
      ]
     },
     "metadata": {
      "needs_background": "light"
     },
     "output_type": "display_data"
    }
   ],
   "source": [
    "MSE=[]\n",
    "APE=[]\n",
    "MAE=[]\n",
    "predicted=[]\n",
    "true=[]\n",
    "start = time.time()\n",
    "transformer = Normalizer().fit(Varmax_df.iloc[:,:].drop(['DP'],axis=1))\n",
    "Trans=transformer.transform(Varmax_df.iloc[:,:].drop(['DP'],axis=1))\n",
    "trans_df=np.append(Trans,np.array(Varmax_df['DP']).reshape(len(Trans),1),1)\n",
    "                   \n",
    "for i in range(350,len(Varmax_df)):\n",
    "    y_val=Varmax_df['DP'].iloc[i]\n",
    "    mod = sm.tsa.VARMAX(trans_df[:i,[0,2,7]],order=(2,2), error_cov_type='diagonal')\n",
    "    res = mod.fit()\n",
    "    #pos_index=[i for i, j in enumerate(trans_df) if j == 'DP']\n",
    "    y_predict=prediction['DP'].iloc[0]\n",
    "    predicted.append(y_predict+df['Prev_pos'].iloc[i])\n",
    "    true.append(y_val+df['Prev_pos'].iloc[i])\n",
    "    mse=(y_val-y_predict)**2\n",
    "    ape=np.abs((y_val-y_predict)/(df['DP'].iloc[i]+df['Prev_pos'].iloc[i]))\n",
    "    MSE.append(mse)\n",
    "    APE.append(ape)\n",
    "    mae=np.abs(y_val-y_predict)\n",
    "    MAE.append(mae)\n",
    "end = time.time()\n",
    "print('VAR Transformation: ')\n",
    "print('MSE is ',np.mean(MSE))\n",
    "print('Average Percentage Error is ' , np.mean(APE) )\n",
    "print('Time elapsed: ',end-start)\n",
    "print('MAE is ',np.mean(MAE))\n",
    "#plt.scatter(predicted,true)"
   ]
  },
  {
   "cell_type": "code",
   "execution_count": null,
   "metadata": {},
   "outputs": [],
   "source": []
  }
 ],
 "metadata": {
  "kernelspec": {
   "display_name": "Python 3",
   "language": "python",
   "name": "python3"
  },
  "language_info": {
   "codemirror_mode": {
    "name": "ipython",
    "version": 3
   },
   "file_extension": ".py",
   "mimetype": "text/x-python",
   "name": "python",
   "nbconvert_exporter": "python",
   "pygments_lexer": "ipython3",
   "version": "3.7.1"
  }
 },
 "nbformat": 4,
 "nbformat_minor": 4
}
